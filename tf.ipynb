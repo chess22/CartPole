{
 "cells": [
  {
   "cell_type": "code",
   "execution_count": 31,
   "metadata": {
    "collapsed": false
   },
   "outputs": [
    {
     "name": "stderr",
     "output_type": "stream",
     "text": [
      "[2017-05-30 21:45:42,067] Finished writing results. You can upload them to the scoreboard via gym.upload('/Users/nanaki/Documents/desk/code/AI_gym/CarPole/private/tmp/cartpole-experiment-3')\n",
      "[2017-05-30 21:45:46,140] Making new env: CartPole-v0\n",
      "[2017-05-30 21:45:46,150] Clearing 5 monitor files from previous run (because force=True was provided)\n",
      "[2017-05-30 21:45:46,156] Starting new video recorder writing to /Users/nanaki/Documents/desk/code/AI_gym/CarPole/private/tmp/cartpole-experiment-3/openaigym.video.17.55711.video000000.mp4\n",
      "[2017-05-30 21:45:47,258] Starting new video recorder writing to /Users/nanaki/Documents/desk/code/AI_gym/CarPole/private/tmp/cartpole-experiment-3/openaigym.video.17.55711.video000001.mp4\n"
     ]
    },
    {
     "name": "stdout",
     "output_type": "stream",
     "text": [
      "Episode finished after 28 timesteps\n",
      "0 28.0 28.0\n",
      "Episode finished after 16 timesteps\n",
      "[ 0.0925357   0.07800405  0.06974903  0.05600323]\n",
      "x.shape= (32, 4)\n",
      "[  2.86117283e-05  -4.67897262e-05]\n",
      "[ -1.35240475e-06  -4.93632433e-06]\n",
      "[ -7.07808613e-06   7.74506361e-07]\n",
      "[  8.23757819e-06  -1.15627527e-05]\n",
      "[  2.88514366e-06  -7.21847641e-07]\n",
      "[ -1.58458988e-06  -8.83555401e-07]\n",
      "[ -1.58458988e-06  -8.83555401e-07]\n",
      "[  4.35182028e-06  -1.27764679e-05]\n",
      "[  2.88514366e-06  -7.21847641e-07]\n",
      "[ -1.94480845e-06  -1.08907784e-06]\n",
      "[ -5.44674094e-06   9.03776879e-07]\n",
      "[  1.34892457e-06   6.73123566e-08]\n",
      "[  2.08278743e-05  -3.35141267e-05]\n",
      "[  5.81754357e-05  -9.76288866e-05]\n",
      "[ -2.08690426e-06  -1.67951043e-07]\n",
      "[  8.30205863e-06  -1.84300588e-05]\n",
      "[ -1.31812922e-05   1.42082763e-06]\n",
      "[  3.54556778e-06  -2.92078676e-06]\n",
      "[ -4.87119314e-06   1.87107474e-07]\n",
      "[ -1.25874822e-05   1.07739061e-06]\n",
      "[ -1.25874822e-05   1.07739061e-06]\n",
      "[  2.88514366e-06  -7.21847641e-07]\n",
      "[  4.77943468e-05  -8.41682631e-05]\n",
      "[ 0.  0.]\n",
      "[  2.43007798e-05  -4.05602950e-05]\n",
      "[ -3.75191257e-06   8.56682732e-07]\n",
      "[ -1.58458988e-06  -8.83555401e-07]\n",
      "[  1.34892457e-06   6.73123566e-08]\n",
      "[ -9.90942135e-06   1.34117897e-06]\n",
      "[ -3.75191257e-06   8.56682732e-07]\n",
      "[ -1.31812922e-05   1.42082763e-06]\n",
      "[  2.88514366e-06  -7.21847641e-07]\n"
     ]
    },
    {
     "ename": "TypeError",
     "evalue": "list indices must be integers or slices, not tuple",
     "output_type": "error",
     "traceback": [
      "\u001b[0;31m---------------------------------------------------------------------------\u001b[0m",
      "\u001b[0;31mTypeError\u001b[0m                                 Traceback (most recent call last)",
      "\u001b[0;32m<ipython-input-31-a5c1cb047151>\u001b[0m in \u001b[0;36m<module>\u001b[0;34m()\u001b[0m\n\u001b[1;32m    300\u001b[0m     \u001b[0mbest_reward1\u001b[0m \u001b[0;34m=\u001b[0m \u001b[0;36m0\u001b[0m\u001b[0;34m\u001b[0m\u001b[0m\n\u001b[1;32m    301\u001b[0m     \u001b[0;32mfor\u001b[0m \u001b[0mi\u001b[0m \u001b[0;32min\u001b[0m \u001b[0mrange\u001b[0m\u001b[0;34m(\u001b[0m\u001b[0;36m10\u001b[0m\u001b[0;34m)\u001b[0m\u001b[0;34m:\u001b[0m\u001b[0;34m\u001b[0m\u001b[0m\n\u001b[0;32m--> 302\u001b[0;31m         \u001b[0mtotal_reward1\u001b[0m \u001b[0;34m=\u001b[0m \u001b[0msim\u001b[0m\u001b[0;34m.\u001b[0m\u001b[0mrun\u001b[0m\u001b[0;34m(\u001b[0m\u001b[0mtrain\u001b[0m\u001b[0;34m=\u001b[0m\u001b[0;32mTrue\u001b[0m\u001b[0;34m)\u001b[0m\u001b[0;34m\u001b[0m\u001b[0m\n\u001b[0m\u001b[1;32m    303\u001b[0m         \u001b[0;32mif\u001b[0m \u001b[0mbest_reward1\u001b[0m \u001b[0;34m<\u001b[0m \u001b[0mtotal_reward1\u001b[0m\u001b[0;34m:\u001b[0m\u001b[0;34m\u001b[0m\u001b[0m\n\u001b[1;32m    304\u001b[0m             \u001b[0mbest_reward1\u001b[0m \u001b[0;34m=\u001b[0m \u001b[0mtotal_reward1\u001b[0m\u001b[0;34m\u001b[0m\u001b[0m\n",
      "\u001b[0;32m<ipython-input-31-a5c1cb047151>\u001b[0m in \u001b[0;36mrun\u001b[0;34m(self, train)\u001b[0m\n\u001b[1;32m    287\u001b[0m         \u001b[0;32mif\u001b[0m \u001b[0mtrain\u001b[0m\u001b[0;34m:\u001b[0m\u001b[0;34m\u001b[0m\u001b[0m\n\u001b[1;32m    288\u001b[0m             \u001b[0;31m# 学習用メモリを使ってモデルを更新する\u001b[0m\u001b[0;34m\u001b[0m\u001b[0;34m\u001b[0m\u001b[0m\n\u001b[0;32m--> 289\u001b[0;31m             \u001b[0mself\u001b[0m\u001b[0;34m.\u001b[0m\u001b[0magent\u001b[0m\u001b[0;34m.\u001b[0m\u001b[0mupdate_model\u001b[0m\u001b[0;34m(\u001b[0m\u001b[0mold_seq\u001b[0m\u001b[0;34m,\u001b[0m \u001b[0maction\u001b[0m\u001b[0;34m,\u001b[0m \u001b[0mreward\u001b[0m\u001b[0;34m,\u001b[0m \u001b[0mnew_seq\u001b[0m\u001b[0;34m)\u001b[0m\u001b[0;34m\u001b[0m\u001b[0m\n\u001b[0m\u001b[1;32m    290\u001b[0m             \u001b[0;31m# self.agent.experience_replay()\u001b[0m\u001b[0;34m\u001b[0m\u001b[0;34m\u001b[0m\u001b[0m\n\u001b[1;32m    291\u001b[0m             \u001b[0mself\u001b[0m\u001b[0;34m.\u001b[0m\u001b[0magent\u001b[0m\u001b[0;34m.\u001b[0m\u001b[0mreduce_epsilon\u001b[0m\u001b[0;34m(\u001b[0m\u001b[0;34m)\u001b[0m\u001b[0;34m\u001b[0m\u001b[0m\n",
      "\u001b[0;32m<ipython-input-31-a5c1cb047151>\u001b[0m in \u001b[0;36mupdate_model\u001b[0;34m(self, old_seq, action, reward, new_seq)\u001b[0m\n\u001b[1;32m    201\u001b[0m             \u001b[0mai\u001b[0m\u001b[0;34m=\u001b[0m\u001b[0mint\u001b[0m\u001b[0;34m(\u001b[0m\u001b[0;34m(\u001b[0m\u001b[0ma\u001b[0m\u001b[0;34m+\u001b[0m\u001b[0;36m1\u001b[0m\u001b[0;34m)\u001b[0m\u001b[0;34m/\u001b[0m\u001b[0;36m2\u001b[0m\u001b[0;34m)\u001b[0m \u001b[0;31m#±1 をindex(0,1)に。\u001b[0m\u001b[0;34m\u001b[0m\u001b[0m\n\u001b[1;32m    202\u001b[0m             \u001b[0mnew_seq\u001b[0m\u001b[0;34m=\u001b[0m \u001b[0mbatch\u001b[0m\u001b[0;34m[\u001b[0m\u001b[0mi\u001b[0m\u001b[0;34m,\u001b[0m\u001b[0;34m(\u001b[0m\u001b[0mSTATE_NUM\u001b[0m\u001b[0;34m+\u001b[0m\u001b[0;36m2\u001b[0m\u001b[0;34m)\u001b[0m\u001b[0;34m:\u001b[0m\u001b[0;34m(\u001b[0m\u001b[0mSTATE_NUM\u001b[0m\u001b[0;34m*\u001b[0m\u001b[0;36m2\u001b[0m\u001b[0;34m+\u001b[0m\u001b[0;36m2\u001b[0m\u001b[0;34m)\u001b[0m\u001b[0;34m]\u001b[0m\u001b[0;34m\u001b[0m\u001b[0m\n\u001b[0;32m--> 203\u001b[0;31m             \u001b[0mtargets\u001b[0m\u001b[0;34m[\u001b[0m\u001b[0mi\u001b[0m\u001b[0;34m,\u001b[0m\u001b[0mai\u001b[0m\u001b[0;34m]\u001b[0m\u001b[0;34m=\u001b[0m\u001b[0;34m(\u001b[0m \u001b[0mr\u001b[0m\u001b[0;34m+\u001b[0m \u001b[0mself\u001b[0m\u001b[0;34m.\u001b[0m\u001b[0mgamma\u001b[0m \u001b[0;34m*\u001b[0m \u001b[0mnp\u001b[0m\u001b[0;34m.\u001b[0m\u001b[0mmax\u001b[0m\u001b[0;34m(\u001b[0m\u001b[0mself\u001b[0m\u001b[0;34m.\u001b[0m\u001b[0mget_action_value\u001b[0m\u001b[0;34m(\u001b[0m\u001b[0mnew_seq\u001b[0m\u001b[0;34m)\u001b[0m\u001b[0;34m)\u001b[0m\u001b[0;34m)\u001b[0m\u001b[0;34m\u001b[0m\u001b[0m\n\u001b[0m\u001b[1;32m    204\u001b[0m         \u001b[0mt\u001b[0m \u001b[0;34m=\u001b[0m \u001b[0mVariable\u001b[0m\u001b[0;34m(\u001b[0m\u001b[0mnp\u001b[0m\u001b[0;34m.\u001b[0m\u001b[0marray\u001b[0m\u001b[0;34m(\u001b[0m\u001b[0mtargets\u001b[0m\u001b[0;34m)\u001b[0m\u001b[0;34m.\u001b[0m\u001b[0mreshape\u001b[0m\u001b[0;34m(\u001b[0m\u001b[0;34m(\u001b[0m\u001b[0mself\u001b[0m\u001b[0;34m.\u001b[0m\u001b[0mbatch_num\u001b[0m\u001b[0;34m,\u001b[0m\u001b[0;34m-\u001b[0m\u001b[0;36m1\u001b[0m\u001b[0;34m)\u001b[0m\u001b[0;34m)\u001b[0m\u001b[0;34m.\u001b[0m\u001b[0mastype\u001b[0m\u001b[0;34m(\u001b[0m\u001b[0mnp\u001b[0m\u001b[0;34m.\u001b[0m\u001b[0mfloat32\u001b[0m\u001b[0;34m)\u001b[0m\u001b[0;34m)\u001b[0m\u001b[0;34m\u001b[0m\u001b[0m\n\u001b[1;32m    205\u001b[0m \u001b[0;34m\u001b[0m\u001b[0m\n",
      "\u001b[0;31mTypeError\u001b[0m: list indices must be integers or slices, not tuple"
     ]
    }
   ],
   "source": [
    "# coding: utf-8\n",
    "from collections import deque\n",
    "import os\n",
    "\n",
    "\n",
    "import numpy as np\n",
    "import time\n",
    "\n",
    "\n",
    "import tensorflow as tf\n",
    "\n",
    "import gym\n",
    "from gym import wrappers\n",
    "\n",
    "np.random.seed(7)\n",
    "\n",
    "# 過去何コマを見るか\n",
    "STATE_NUM = 4\n",
    "\n",
    "\n",
    "class DQNAgent():\n",
    "    \"\"\"\n",
    "    Multi Layer Perceptron with Experience Replay\n",
    "    \"\"\"\n",
    "\n",
    "    def __init__(self, epsilon=0.99):\n",
    "        # parameters\n",
    "        # self.name = os.path.splitext(os.path.basename(__file__))[0]\n",
    "        # self.environment_name = environment_name\n",
    "        self.enable_actions = [0,1] \n",
    "        self.n_actions = len(self.enable_actions)\n",
    "        self.minibatch_size = 32\n",
    "        self.replay_memory_size = 300*100\n",
    "        self.learning_rate = 0.001\n",
    "        self.discount_factor = 0.9\n",
    "        self.exploration = 0.1\n",
    "        self.epsilon = epsilon\n",
    "        self.experienceMemory=[] # 経験メモリ（エピソードローカル）\n",
    "        self.experienceMemory_local=[] # 経験メモリ（エピソードローカル）\n",
    "        self.memSize = 300*100  # 経験メモリのサイズ(300サンプリングx100エピソード)\n",
    "        self.experienceMemory_local=[] # 経験メモリ（エピソードローカル）\n",
    "        self.memPos = 0 #メモリのインデックス\n",
    "        self.batch_num = 32 # 学習に使うバッチサイズ\n",
    "        self.gamma = 0.9       # 割引率\n",
    "        self.loss=0\n",
    "        self.total_reward_award=np.ones(100)*-1000 #100エピソード\n",
    "        \n",
    "\n",
    "\n",
    "        # replay memory\n",
    "        self.D = deque(maxlen=self.replay_memory_size)\n",
    "\n",
    "        # model\n",
    "        self.init_model()\n",
    "\n",
    "        # variables\n",
    "        self.current_loss = 0.0\n",
    "\n",
    "    def init_model(self):\n",
    "\n",
    "        # input layer (1 x 4)\n",
    "        self.x = tf.placeholder(tf.float32, [4])\n",
    "\n",
    "        # flatten (64)\n",
    "        x_flat = tf.reshape(self.x, [-1, 4])\n",
    "\n",
    "        # fully connected layer (32)\n",
    "        W_fc1 = tf.Variable(tf.truncated_normal([4 ,16], stddev=0.01))\n",
    "        b_fc1 = tf.Variable(tf.zeros([16]))\n",
    "        h_fc1 = tf.nn.relu(tf.matmul(x_flat, W_fc1) + b_fc1)\n",
    "\n",
    "        # output layer (n_actions)\n",
    "        W_out = tf.Variable(tf.truncated_normal([16, self.n_actions], stddev=0.01))\n",
    "        b_out = tf.Variable(tf.zeros([self.n_actions]))\n",
    "        self.y = tf.matmul(h_fc1, W_out) + b_out\n",
    "\n",
    "        # loss function\n",
    "        self.y_ = tf.placeholder(tf.float32, [None, self.n_actions])\n",
    "        self.loss = tf.reduce_mean(tf.square(self.y_ - self.y))\n",
    "\n",
    "        # train operation\n",
    "        optimizer = tf.train.RMSPropOptimizer(self.learning_rate)\n",
    "        self.training = optimizer.minimize(self.loss)\n",
    "\n",
    "        # saver\n",
    "        self.saver = tf.train.Saver()\n",
    "\n",
    "        # session\n",
    "        self.sess = tf.Session()\n",
    "        self.sess.run(tf.global_variables_initializer())\n",
    "\n",
    "    def get_action_value(self, state):\n",
    "        #Q_values(self, state): #\n",
    "        # Q(state, action) of all actions\n",
    "        return self.sess.run(self.y, feed_dict={self.x: state})[0]\n",
    "\n",
    "    def reduce_epsilon(self):\n",
    "        self.epsilon-=1.0/100000\n",
    "\n",
    "    def get_epsilon(self):\n",
    "        return self.epsilon\n",
    "\n",
    "    def get_action(self, state, train):\n",
    "        if train==True and np.random.rand() < self.epsilon:\n",
    "            # random\n",
    "            return np.random.choice(self.enable_actions)\n",
    "        else:\n",
    "            # max_action Q(state, action)\n",
    "            return self.enable_actions[np.argmax(self.get_action_value(state))]\n",
    "\n",
    "    def experience_local(self,old_seq, action, reward, new_seq):\n",
    "        #エピソードローカルな記憶\n",
    "        self.experienceMemory_local.append( np.hstack([old_seq,action,reward,new_seq]) )\n",
    " \n",
    "    def store_experience(self, state, action, reward, state_1, train):\n",
    "        self.D.append((state, action, reward, state_1, train))\n",
    "\n",
    "\n",
    "    def experience_global(self,total_reward):\n",
    "        #グローバルな記憶\n",
    "        #ベスト100に入る経験を取り込む\n",
    "        if np.min(self.total_reward_award)<total_reward:\n",
    "            i=np.argmin(self.total_reward_award)\n",
    "            self.total_reward_award[i]=total_reward\n",
    "\n",
    "            # GOOD EXPERIENCE REPLAY\n",
    "            for x in self.experienceMemory_local:\n",
    "                self.experience( x )\n",
    "\n",
    "        #一定確率で優秀でないものも取り込む\n",
    "        if np.random.random()<0.01:\n",
    "            # # NORMAL EXPERIENCE REPLAY\n",
    "            for x in self.experienceMemory_local:\n",
    "                self.experience( x )\n",
    "\n",
    "        self.experienceMemory_local=[]\n",
    "\n",
    "    def experience(self,x):\n",
    "        if len(self.experienceMemory)>self.memSize:\n",
    "            self.experienceMemory[int(self.memPos%self.memSize)]=x\n",
    "            self.memPos+=1\n",
    "        else:\n",
    "            self.experienceMemory.append( x )\n",
    "        \n",
    "    def experience_replay(self):\n",
    "        state_minibatch = []\n",
    "        y_minibatch = []\n",
    "\n",
    "        # sample random minibatch\n",
    "        minibatch_size = min(len(self.D), self.minibatch_size)\n",
    "        minibatch_indexes = np.random.randint(0, len(self.D), minibatch_size)\n",
    "\n",
    "        for j in minibatch_indexes:\n",
    "            state_j, action_j, reward_j, state_j_1, terminal = self.D[j]\n",
    "            action_j_index = self.enable_actions.index(action_j)\n",
    "            state_j\n",
    "            y_j = self.get_action_value(state_j)\n",
    "\n",
    "            if terminal:\n",
    "                y_j[action_j_index] = reward_j\n",
    "            else:\n",
    "                # reward_j + gamma * max_action' Q(state', action')\n",
    "                y_j[action_j_index] = reward_j + self.discount_factor * np.max(self.get_action_value(state_j_1))  # NOQA\n",
    "\n",
    "            state_minibatch.append(state_j)\n",
    "            y_minibatch.append(y_j)\n",
    "\n",
    "        # training\n",
    "        self.sess.run(self.training, feed_dict={self.x: state_minibatch, self.y_: y_minibatch})\n",
    "\n",
    "        # for log\n",
    "        self.current_loss = self.sess.run(self.loss, feed_dict={self.x: state_minibatch, self.y_: y_minibatch})\n",
    "    \n",
    "    \n",
    "    def update_model(self,old_seq, action, reward, new_seq):\n",
    "        '''\n",
    "        モデルを更新する\n",
    "        '''\n",
    "        # 経験メモリにたまってない場合は更新しない\n",
    "        if len(self.experienceMemory)<self.batch_num:\n",
    "            return\n",
    "\n",
    "        # 経験メモリからバッチを作成\n",
    "        memsize=len(self.experienceMemory)\n",
    "        batch_index = list(np.random.randint(0,memsize,(self.batch_num)))\n",
    "        batch =np.array( [self.experienceMemory[i] for i in batch_index ])\n",
    "        x = batch[:,0:STATE_NUM].reshape( (self.batch_num,-1)).astype(np.float32)\n",
    "        targets=[]\n",
    "        \n",
    "        for j in range(x.shape[0]): \n",
    "            targets.append(self.get_action_value(x[j]))\n",
    "        #targets=self.get_action_value(x).data.copy()\n",
    "\n",
    "        for i in range(self.batch_num):\n",
    "            #[ seq..., action, reward, seq_new]\n",
    "            a = batch[i,STATE_NUM]\n",
    "            r = batch[i, STATE_NUM+1]\n",
    "            ai=int((a+1)/2) #±1 をindex(0,1)に。\n",
    "            new_seq= batch[i,(STATE_NUM+2):(STATE_NUM*2+2)]\n",
    "            targets[i,ai]=( r+ self.gamma * np.max(self.get_action_value(new_seq)))\n",
    "        t = Variable(np.array(targets).reshape((self.batch_num,-1)).astype(np.float32))\n",
    "\n",
    "        # ネットの更新\n",
    "        # self.model.zerograds()\n",
    "        # loss=self.model(x ,t)\n",
    "        # self.loss = loss.data\n",
    "        # loss.backward()\n",
    "        # self.optimizer.update()\n",
    "\n",
    "        # training\n",
    "        self.sess.run(self.training, feed_dict={self.x: x, self.y_: t})\n",
    "\n",
    "        # for log\n",
    "        self.current_loss = self.sess.run(self.loss, feed_dict={self.x: state_minibatch, self.y_: y_minibatch})\n",
    "\n",
    "\n",
    "class pendulumEnvironment():\n",
    "    '''\n",
    "    model\n",
    "    '''\n",
    "    def __init__(self):\n",
    "        self.env = wrappers.Monitor(gym.make('CartPole-v0'), './private/tmp/cartpole-experiment-3', force = True)\n",
    "\n",
    "    def reset(self):\n",
    "        self.env.reset()\n",
    "\n",
    "    def step(self, action):\n",
    "        return self.env.step(action)\n",
    "\n",
    "    def monitor_close(self):\n",
    "        self.env.close()\n",
    "\n",
    "# シミュレータ。\n",
    "class simulator:\n",
    "    def __init__(self, environment, agent):\n",
    "        self.agent = agent\n",
    "        self.env = environment\n",
    "        self.num_seq=STATE_NUM\n",
    "        self.reset_seq()\n",
    "        self.learning_rate=1.0\n",
    "        self.highscore=0\n",
    "        self.log=[]\n",
    "\n",
    "    def reset_seq(self):\n",
    "        self.seq=np.zeros(self.num_seq)\n",
    "\n",
    "    def push_seq(self, state):\n",
    "        self.seq[1:self.num_seq]=self.seq[0:self.num_seq-1]\n",
    "        self.seq[0]=state\n",
    "\n",
    "    def run(self, train=True):\n",
    "\n",
    "        self.env.reset()\n",
    "        self.reset_seq()\n",
    "        total_reward=0\n",
    "\n",
    "        for i in range(300):\n",
    "            # 現在のstateからなるシーケンスを保存\n",
    "            old_seq = self.seq.copy()\n",
    "\n",
    "            # エージェントの行動を決める\n",
    "            action = self.agent.get_action(old_seq,train)\n",
    "\n",
    "            # 環境に行動を入力する\n",
    "            observation, reward, done, info =  self.env.step(action)\n",
    "            total_reward +=reward\n",
    "\n",
    "            # 結果を観測してstateとシーケンスを更新する\n",
    "            state = observation[2]\n",
    "            self.push_seq(state)\n",
    "            new_seq = self.seq.copy()\n",
    "\n",
    "            # エピソードローカルなメモリに記憶する\n",
    "            self.agent.store_experience(old_seq, action, reward, new_seq,train)\n",
    "            self.agent.experience_local(old_seq, action, reward, new_seq)\n",
    "\n",
    "            if done:\n",
    "                print(\"Episode finished after {} timesteps\".format(i+1))\n",
    "                break\n",
    "\n",
    "        # エピソードローカルなメモリ内容をグローバルなメモリに移す\n",
    "        self.agent.experience_global(total_reward)\n",
    "\n",
    "        if train:\n",
    "            # 学習用メモリを使ってモデルを更新する\n",
    "            self.agent.update_model(old_seq, action, reward, new_seq)\n",
    "            # self.agent.experience_replay()\n",
    "            self.agent.reduce_epsilon()\n",
    "\n",
    "        return total_reward\n",
    "\n",
    "if __name__ == '__main__':\n",
    "    agent=DQNAgent()\n",
    "    env=pendulumEnvironment()\n",
    "    sim=simulator(env,agent)\n",
    "\n",
    "    best_reward1 = 0\n",
    "    for i in range(10):\n",
    "        total_reward1 = sim.run(train=True)\n",
    "        if best_reward1 < total_reward1:\n",
    "            best_reward1 = total_reward1\n",
    "\n",
    "        print(str(i) + \" \" + str(total_reward1) + \" \" + str(best_reward1))\n",
    "        env.reset()\n",
    "\n",
    "        if best_reward1 > 195:\n",
    "            break\n",
    "\n",
    "    env.monitor_close()\n",
    "    #gym.upload('./private/tmp/cartpole-experiment-3', api_key='sk_GDB9izzTxu1PyxNAdhcw')\n"
   ]
  },
  {
   "cell_type": "code",
   "execution_count": 12,
   "metadata": {
    "collapsed": false
   },
   "outputs": [],
   "source": []
  },
  {
   "cell_type": "code",
   "execution_count": 13,
   "metadata": {
    "collapsed": false
   },
   "outputs": [
    {
     "data": {
      "text/plain": [
       "array([[ 1.5,  0. ],\n",
       "       [ 0. ,  3. ]])"
      ]
     },
     "execution_count": 13,
     "metadata": {},
     "output_type": "execute_result"
    }
   ],
   "source": [
    "a"
   ]
  },
  {
   "cell_type": "code",
   "execution_count": 14,
   "metadata": {
    "collapsed": false
   },
   "outputs": [
    {
     "data": {
      "text/plain": [
       "array([ 0.,  3.])"
      ]
     },
     "execution_count": 14,
     "metadata": {},
     "output_type": "execute_result"
    }
   ],
   "source": [
    "a[1]"
   ]
  },
  {
   "cell_type": "code",
   "execution_count": 15,
   "metadata": {
    "collapsed": false
   },
   "outputs": [
    {
     "data": {
      "text/plain": [
       "[array([[ 1.5,  0. ],\n",
       "        [ 0. ,  3. ]])]"
      ]
     },
     "execution_count": 15,
     "metadata": {},
     "output_type": "execute_result"
    }
   ],
   "source": [
    "[a]"
   ]
  },
  {
   "cell_type": "code",
   "execution_count": 16,
   "metadata": {
    "collapsed": false
   },
   "outputs": [
    {
     "data": {
      "text/plain": [
       "array([[ 1.5,  0. ],\n",
       "       [ 0. ,  3. ]])"
      ]
     },
     "execution_count": 16,
     "metadata": {},
     "output_type": "execute_result"
    }
   ],
   "source": [
    "(a)"
   ]
  },
  {
   "cell_type": "code",
   "execution_count": 19,
   "metadata": {
    "collapsed": false
   },
   "outputs": [
    {
     "data": {
      "text/plain": [
       "(2, 2)"
      ]
     },
     "execution_count": 19,
     "metadata": {},
     "output_type": "execute_result"
    }
   ],
   "source": [
    "a.shape"
   ]
  },
  {
   "cell_type": "code",
   "execution_count": 20,
   "metadata": {
    "collapsed": false
   },
   "outputs": [
    {
     "name": "stdout",
     "output_type": "stream",
     "text": [
      "(2, 2)\n"
     ]
    }
   ],
   "source": [
    "print(a.shape)"
   ]
  },
  {
   "cell_type": "code",
   "execution_count": 27,
   "metadata": {
    "collapsed": true
   },
   "outputs": [],
   "source": [
    "a = [4]"
   ]
  },
  {
   "cell_type": "code",
   "execution_count": 28,
   "metadata": {
    "collapsed": false
   },
   "outputs": [
    {
     "data": {
      "text/plain": [
       "[4]"
      ]
     },
     "execution_count": 28,
     "metadata": {},
     "output_type": "execute_result"
    }
   ],
   "source": [
    "a"
   ]
  },
  {
   "cell_type": "code",
   "execution_count": 30,
   "metadata": {
    "collapsed": false
   },
   "outputs": [
    {
     "ename": "SyntaxError",
     "evalue": "invalid syntax (<ipython-input-30-690ea4184850>, line 1)",
     "output_type": "error",
     "traceback": [
      "\u001b[0;36m  File \u001b[0;32m\"<ipython-input-30-690ea4184850>\"\u001b[0;36m, line \u001b[0;32m1\u001b[0m\n\u001b[0;31m    a = [1:4,1]\u001b[0m\n\u001b[0m          ^\u001b[0m\n\u001b[0;31mSyntaxError\u001b[0m\u001b[0;31m:\u001b[0m invalid syntax\n"
     ]
    }
   ],
   "source": [
    "a = [1:4,1]"
   ]
  },
  {
   "cell_type": "code",
   "execution_count": null,
   "metadata": {
    "collapsed": true
   },
   "outputs": [],
   "source": []
  }
 ],
 "metadata": {
  "kernelspec": {
   "display_name": "Python 3",
   "language": "python",
   "name": "python3"
  },
  "language_info": {
   "codemirror_mode": {
    "name": "ipython",
    "version": 3
   },
   "file_extension": ".py",
   "mimetype": "text/x-python",
   "name": "python",
   "nbconvert_exporter": "python",
   "pygments_lexer": "ipython3",
   "version": "3.5.3"
  }
 },
 "nbformat": 4,
 "nbformat_minor": 2
}
